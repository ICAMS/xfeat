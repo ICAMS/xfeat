{
 "cells": [
  {
   "cell_type": "markdown",
   "id": "3cf41fda-3960-4d36-9561-1dc717b1a143",
   "metadata": {},
   "source": [
    "# XFEAt Screw dislocation\n",
    "\n",
    "Create a screw dislocation in a bcc Fe crystal and apply a shear stress until the\n",
    "dislocation starts moving.\n",
    "\n",
    "Author: Alexander Hartmaier  \n",
    "Institution: ICAMS / Ruhr University Bochum, Germany  \n",
    "Date: March 2022\n",
    "\n",
    "This work is licensed under a\n",
    "Creative Commons Attribution-NonCommercial-ShareAlike 4.0 International License\n",
    "<a rel=\"license\" href=\"http://creativecommons.org/licenses/by-nc-sa/4.0/\">(CC-BY-NC-SA)</a>\n",
    "\n",
    "The XFEAt package comes with ABSOLUTELY NO WARRANTY. This is free\n",
    "software, and you are welcome to redistribute it under the conditions of\n",
    "the GNU General Public License <a href=\"http://www.fsf.org/licensing/licenses/gpl.html\">(GPLv3)</a>\n",
    "\n",
    "<img alt=\"Creative Commons License\" style=\"border-width:0;max-heigt:9px;height:100%;\" src=\"https://i.creativecommons.org/l/by-nc-sa/4.0/88x31.png\"/></a>\n",
    "<img alt=\"GPLv3\" style=\"border-width:0;max-heigt:9px;height:100%;\" src=\"../docs/figures/gplv3-88x31.png\"/></a>"
   ]
  },
  {
   "cell_type": "code",
   "execution_count": 1,
   "id": "1f6c4853-e006-40b3-ae1e-3a5216748f9c",
   "metadata": {},
   "outputs": [],
   "source": [
    "%matplotlib inline\n",
    "from pyvista import set_plot_theme, set_jupyter_backend\n",
    "set_plot_theme('document')\n",
    "set_jupyter_backend('ipyvtklink')"
   ]
  },
  {
   "cell_type": "markdown",
   "id": "b70f37fe-c156-46eb-934f-97be307fc784",
   "metadata": {},
   "source": [
    "## 1. Create model\n",
    "\n",
    "Define a material and create an XFEAt model consisting of an atomistic core and an XFEM frame around it. Insert a screw disloction into the XFEM and atomistic parts of the model."
   ]
  },
  {
   "cell_type": "code",
   "execution_count": 2,
   "id": "d9d8c961-cd0e-4c3c-ac58-0573ab45e480",
   "metadata": {},
   "outputs": [
    {
     "name": "stdout",
     "output_type": "stream",
     "text": [
      "Succesfully created structure with 6120 atoms.\n"
     ]
    },
    {
     "data": {
      "application/vnd.jupyter.widget-view+json": {
       "model_id": "c7ef06f30400481bb2753989ff988d99",
       "version_major": 2,
       "version_minor": 0
      },
      "text/plain": [
       "ViewInteractiveWidget(height=768, layout=Layout(height='auto', width='100%'), width=1024)"
      ]
     },
     "metadata": {},
     "output_type": "display_data"
    },
    {
     "name": "stdout",
     "output_type": "stream",
     "text": [
      "Generated mesh with 17376 elements and 23872 nodes around atomistic core.\n"
     ]
    },
    {
     "data": {
      "application/vnd.jupyter.widget-view+json": {
       "model_id": "a28134cbdaa44a38837e5b690e615c6c",
       "version_major": 2,
       "version_minor": 0
      },
      "text/plain": [
       "ViewInteractiveWidget(height=768, layout=Layout(height='auto', width='100%'), width=1024)"
      ]
     },
     "metadata": {},
     "output_type": "display_data"
    },
    {
     "name": "stdout",
     "output_type": "stream",
     "text": [
      "XFEM solution obtained in 9.7519s.\n",
      "Relaxation of atoms obtained in 13.919s.\n",
      "\n",
      "Created dislocation with Burgers vector ([0. 0. 1.]) in model.\n",
      "Norm of Burgers vector is 2.472772 A\n"
     ]
    },
    {
     "data": {
      "application/vnd.jupyter.widget-view+json": {
       "model_id": "0373fc25f02d4006bb26c828fa201229",
       "version_major": 2,
       "version_minor": 0
      },
      "text/plain": [
       "ViewInteractiveWidget(height=768, layout=Layout(height='auto', width='100%'), width=1024)"
      ]
     },
     "metadata": {},
     "output_type": "display_data"
    }
   ],
   "source": [
    "import xfeat\n",
    "\n",
    "# define material of single crystal as dictionary\n",
    "mat = {\n",
    "       'name' : 'iron',\n",
    "       'cs'   : 'bcc',  # crystal structure\n",
    "       'lp'   : 2.8553,  # lattice parameter in Angstrom\n",
    "       'mass' : 55.845,  # atomic mass in u\n",
    "       # define anisotropic elastic constants in GPa\n",
    "       'C11'  : 243.4,\n",
    "       'C12'  : 145.0,\n",
    "       'C44'  : 116.0,\n",
    "       # W-Bop 6\n",
    "       # C11. C12, C44 = 2.837825, 1.5317, 0.6256225\n",
    "       # define crystallograhic orientation of crystal\n",
    "       'ori_x' : [-1, 2, -1],\n",
    "       'ori_y' : [-1, 0,  1],\n",
    "       'ori_z' : [ 1, 1,  1],\n",
    "       }\n",
    "\n",
    "# create XFEM model \n",
    "mod = xfeat.Model(mat, size=400)\n",
    "# create atomic core\n",
    "mod.atoms([10, 17, 3])\n",
    "mod.atom_grid.plot(cpos='xy', style='points', point_size=20, render_points_as_spheres=True)\n",
    "# create mesh and set up system stiffness matrix\n",
    "mod.mesh()\n",
    "mod.grid.plot(cpos='xy', show_edges=True)\n",
    "# create screw dislocation\n",
    "mod.init_dislo([0, 0, 1])\n",
    "# extract atomistic displacements\n",
    "mod.atom_bc()\n",
    "# plot z-displaceent of atoms and XFEM nodes\n",
    "mod.plot('uz')"
   ]
  },
  {
   "cell_type": "markdown",
   "id": "06310ec7-14aa-4925-951e-6019ab694b4c",
   "metadata": {},
   "source": [
    "It is seen that the z-displacement in atomistic and XFEM regions are constistently defined when the screw dislocation is introduced. However, the other displacement components are depending of the interatomic potential and cannot be set directly."
   ]
  },
  {
   "cell_type": "code",
   "execution_count": 3,
   "id": "ed9390ee-9698-45a7-ab74-32fde848dc89",
   "metadata": {},
   "outputs": [
    {
     "data": {
      "application/vnd.jupyter.widget-view+json": {
       "model_id": "a969532734794e0b92d16d9400aaa0cd",
       "version_major": 2,
       "version_minor": 0
      },
      "text/plain": [
       "ViewInteractiveWidget(height=768, layout=Layout(height='auto', width='100%'), width=1024)"
      ]
     },
     "metadata": {},
     "output_type": "display_data"
    },
    {
     "name": "stdout",
     "output_type": "stream",
     "text": [
      "Zoom in to see atoms lying in overlap region more clearly.\n"
     ]
    }
   ],
   "source": [
    "# plot y-displacements\n",
    "mod.plot('uy')\n",
    "print('Zoom in to see atoms lying in overlap region more clearly.')"
   ]
  },
  {
   "cell_type": "markdown",
   "id": "011d6a31-67e5-411f-8ee1-1639e5fc4a60",
   "metadata": {},
   "source": [
    "To embedd the dislocation consistently into the XFEM model, it is necessary to relax both structures iteratively. During this process, the atoms overlapping with the XFEM region are always fixed to the XFEM solution, whereas the atoms in the inner region are relaxed freely. After the atomic relaxation has occured, the displacements of the relaxed atoms on the boundary of the inner region are applied as XFEM boundary conditions and a new XFEM solution is calculated."
   ]
  },
  {
   "cell_type": "code",
   "execution_count": 4,
   "id": "52d37cb5-d87f-4540-899b-d573db8d245f",
   "metadata": {},
   "outputs": [
    {
     "name": "stdout",
     "output_type": "stream",
     "text": [
      "XFEM solution obtained in  9.321s.\n",
      "Relaxation of atoms obtained in 17.499s.\n",
      "XFEM solution obtained in 9.8902s.\n",
      "Relaxation of atoms obtained in 16.039s.\n",
      "XFEM solution obtained in 9.5095s.\n",
      "Relaxation of atoms obtained in 18.124s.\n",
      "y-displacement after 3 iterations. Zoom in to overlap region.\n"
     ]
    },
    {
     "data": {
      "application/vnd.jupyter.widget-view+json": {
       "model_id": "b58ca15cf782455aad090f451d841d2e",
       "version_major": 2,
       "version_minor": 0
      },
      "text/plain": [
       "ViewInteractiveWidget(height=768, layout=Layout(height='auto', width='100%'), width=1024)"
      ]
     },
     "metadata": {},
     "output_type": "display_data"
    },
    {
     "name": "stdout",
     "output_type": "stream",
     "text": [
      "XFEM solution obtained in 9.7734s.\n",
      "Relaxation of atoms obtained in 16.729s.\n",
      "XFEM solution obtained in 9.6368s.\n",
      "Relaxation of atoms obtained in 15.448s.\n",
      "XFEM solution obtained in 9.7709s.\n",
      "Relaxation of atoms obtained in  16.98s.\n",
      "y-displacement after 6 iterations. Zoom in to overlap region.\n"
     ]
    },
    {
     "data": {
      "application/vnd.jupyter.widget-view+json": {
       "model_id": "e29412fa0dec476bbd8b21c75613f74b",
       "version_major": 2,
       "version_minor": 0
      },
      "text/plain": [
       "ViewInteractiveWidget(height=768, layout=Layout(height='auto', width='100%'), width=1024)"
      ]
     },
     "metadata": {},
     "output_type": "display_data"
    },
    {
     "name": "stdout",
     "output_type": "stream",
     "text": [
      "XFEM solution obtained in 9.6388s.\n",
      "Relaxation of atoms obtained in 14.403s.\n",
      "XFEM solution obtained in 9.6008s.\n",
      "Relaxation of atoms obtained in 14.473s.\n",
      "XFEM solution obtained in 9.3976s.\n",
      "Relaxation of atoms obtained in  14.77s.\n",
      "y-displacement after 9 iterations. Zoom in to overlap region.\n"
     ]
    },
    {
     "data": {
      "application/vnd.jupyter.widget-view+json": {
       "model_id": "3c23841505de402d874f22e5c6da140a",
       "version_major": 2,
       "version_minor": 0
      },
      "text/plain": [
       "ViewInteractiveWidget(height=768, layout=Layout(height='auto', width='100%'), width=1024)"
      ]
     },
     "metadata": {},
     "output_type": "display_data"
    },
    {
     "name": "stdout",
     "output_type": "stream",
     "text": [
      "XFEM solution obtained in  9.648s.\n",
      "Relaxation of atoms obtained in 14.585s.\n",
      "XFEM solution obtained in 9.3361s.\n",
      "Relaxation of atoms obtained in 13.792s.\n",
      "XFEM solution obtained in 9.4643s.\n",
      "Relaxation of atoms obtained in 15.357s.\n",
      "y-displacement after 12 iterations. Zoom in to overlap region.\n"
     ]
    },
    {
     "data": {
      "application/vnd.jupyter.widget-view+json": {
       "model_id": "bfea8a1bda1c47c3b10af0a337420f51",
       "version_major": 2,
       "version_minor": 0
      },
      "text/plain": [
       "ViewInteractiveWidget(height=768, layout=Layout(height='auto', width='100%'), width=1024)"
      ]
     },
     "metadata": {},
     "output_type": "display_data"
    }
   ],
   "source": [
    "# iterate into relaxed configuration\n",
    "for i in range(12):\n",
    "    mod.atom_bc()  # apply relaxed atom positions as BC to XFEM \n",
    "    mod.solve()  # colculate nodal displacements for mechanical equilibrium\n",
    "    mod.shift_atoms()  # move boundary atoms in overlap region according to XFEM strain field\n",
    "    mod.relax_atoms(i)  # relax atomic structure with fixed boundary atoms\n",
    "    if i % 3 == 2:\n",
    "        print(f'y-displacement after {i+1} iterations. Zoom in to overlap region.')\n",
    "        mod.plot('uy')"
   ]
  },
  {
   "cell_type": "markdown",
   "id": "fc990956-8bdc-42d7-96e3-2c3d0c43cc8a",
   "metadata": {},
   "source": [
    "## 2. Apply shear stress\n",
    "In a first step, a sub-critical shear stress is applied at the XFEM boundary, which is not sufficient to move the dislocation."
   ]
  },
  {
   "cell_type": "code",
   "execution_count": 5,
   "id": "527a28ad-86fa-4f38-a553-ac9b4bcdf9bb",
   "metadata": {},
   "outputs": [
    {
     "name": "stdout",
     "output_type": "stream",
     "text": [
      "z-displacement before applying shear stress on XFEM model.\n"
     ]
    },
    {
     "data": {
      "application/vnd.jupyter.widget-view+json": {
       "model_id": "aa2c1b0b2ff8470281d03a6f4de2510c",
       "version_major": 2,
       "version_minor": 0
      },
      "text/plain": [
       "ViewInteractiveWidget(height=768, layout=Layout(height='auto', width='100%'), width=1024)"
      ]
     },
     "metadata": {},
     "output_type": "display_data"
    },
    {
     "name": "stdout",
     "output_type": "stream",
     "text": [
      "Stress component yz before applying shear stress.\n"
     ]
    },
    {
     "data": {
      "application/vnd.jupyter.widget-view+json": {
       "model_id": "feb6be452aef4de3a376fcee82695187",
       "version_major": 2,
       "version_minor": 0
      },
      "text/plain": [
       "ViewInteractiveWidget(height=768, layout=Layout(height='auto', width='100%'), width=1024)"
      ]
     },
     "metadata": {},
     "output_type": "display_data"
    },
    {
     "name": "stdout",
     "output_type": "stream",
     "text": [
      "Potential energy of atoms before applying shear stress.\n"
     ]
    },
    {
     "data": {
      "application/vnd.jupyter.widget-view+json": {
       "model_id": "22d6afaee325403cb2446e861610a957",
       "version_major": 2,
       "version_minor": 0
      },
      "text/plain": [
       "ViewInteractiveWidget(height=768, layout=Layout(height='auto', width='100%'), width=1024)"
      ]
     },
     "metadata": {},
     "output_type": "display_data"
    },
    {
     "name": "stdout",
     "output_type": "stream",
     "text": [
      "Shear stress of 1.55 GPa applied on XFEM boundary.\n",
      "XFEM solution obtained in 9.7921s.\n",
      "Relaxation of atoms obtained in 19.268s.\n",
      "XFEM solution obtained in 9.4534s.\n",
      "Relaxation of atoms obtained in 21.757s.\n",
      "XFEM solution obtained in 9.6998s.\n",
      "Relaxation of atoms obtained in 18.318s.\n",
      "XFEM solution obtained in 9.6639s.\n",
      "Relaxation of atoms obtained in 18.703s.\n",
      "XFEM solution obtained in 9.4042s.\n",
      "Relaxation of atoms obtained in 18.695s.\n",
      "Potential energy of atoms after 5 iterations.\n"
     ]
    },
    {
     "data": {
      "application/vnd.jupyter.widget-view+json": {
       "model_id": "341577904a6e44c1bdbf851b6c0809e9",
       "version_major": 2,
       "version_minor": 0
      },
      "text/plain": [
       "ViewInteractiveWidget(height=768, layout=Layout(height='auto', width='100%'), width=1024)"
      ]
     },
     "metadata": {},
     "output_type": "display_data"
    },
    {
     "name": "stdout",
     "output_type": "stream",
     "text": [
      "XFEM solution obtained in 9.3296s.\n",
      "Relaxation of atoms obtained in 18.851s.\n",
      "XFEM solution obtained in 9.3337s.\n",
      "Relaxation of atoms obtained in 18.423s.\n",
      "XFEM solution obtained in 9.3519s.\n",
      "Relaxation of atoms obtained in 17.896s.\n",
      "XFEM solution obtained in 9.6866s.\n",
      "Relaxation of atoms obtained in 15.541s.\n",
      "XFEM solution obtained in 9.7379s.\n",
      "Relaxation of atoms obtained in 15.824s.\n",
      "Potential energy of atoms after 10 iterations.\n"
     ]
    },
    {
     "data": {
      "application/vnd.jupyter.widget-view+json": {
       "model_id": "91e68ef7990d47e6a8a8a393a00b6b70",
       "version_major": 2,
       "version_minor": 0
      },
      "text/plain": [
       "ViewInteractiveWidget(height=768, layout=Layout(height='auto', width='100%'), width=1024)"
      ]
     },
     "metadata": {},
     "output_type": "display_data"
    },
    {
     "name": "stdout",
     "output_type": "stream",
     "text": [
      "Stress component yz at applied shear stress 1.55 GPa.\n"
     ]
    },
    {
     "data": {
      "application/vnd.jupyter.widget-view+json": {
       "model_id": "bed3a670ba3941cc98012a0b3c3586f6",
       "version_major": 2,
       "version_minor": 0
      },
      "text/plain": [
       "ViewInteractiveWidget(height=768, layout=Layout(height='auto', width='100%'), width=1024)"
      ]
     },
     "metadata": {},
     "output_type": "display_data"
    }
   ],
   "source": [
    "# plot nodal displacement\n",
    "print('z-displacement before applying shear stress on XFEM model.')\n",
    "mod.plot('uz')\n",
    "# plot stresses\n",
    "print('Stress component yz before applying shear stress.')\n",
    "mod.plot('sigyz')\n",
    "# plot potential energy of atoms\n",
    "print('Potential energy of atoms before applying shear stress.')\n",
    "mod.plot('epot')\n",
    "\n",
    "# Apply sub-critical shear stress on boundary\n",
    "val = 1.55\n",
    "mod.apply_bc(val, bc_type='stress', comp='yz')\n",
    "print(f'Shear stress of {val} GPa applied on XFEM boundary.')\n",
    "# iterate into relaxed configuration\n",
    "for i in range(10):\n",
    "    mod.atom_bc()\n",
    "    mod.solve()\n",
    "    mod.shift_atoms()\n",
    "    mod.relax_atoms(i, name='applied_stress_155')\n",
    "    if i % 5 == 4:\n",
    "        print(f'Potential energy of atoms after {i+1} iterations.')\n",
    "        mod.plot('epot')\n",
    "# plot stresses\n",
    "print(f'Stress component yz at applied shear stress {val} GPa.')\n",
    "mod.plot('sigyz')"
   ]
  },
  {
   "cell_type": "markdown",
   "id": "8cfac5df-21d0-4539-87fe-6d034d9b888a",
   "metadata": {},
   "source": [
    "## 3. Increase stress \n",
    "Now, the level of the applied shear stress is increased beyond the critical value and dislocation motion sets in."
   ]
  },
  {
   "cell_type": "code",
   "execution_count": 6,
   "id": "ba477506-0588-4622-bf14-0a9f98dd5e16",
   "metadata": {},
   "outputs": [
    {
     "name": "stdout",
     "output_type": "stream",
     "text": [
      "XFEM solution obtained in 9.8556s.\n",
      "Relaxation of atoms obtained in 20.014s.\n",
      "XFEM solution obtained in 9.9316s.\n",
      "Relaxation of atoms obtained in 20.502s.\n",
      "XFEM solution obtained in 9.7549s.\n",
      "Relaxation of atoms obtained in 20.368s.\n",
      "XFEM solution obtained in 9.8926s.\n",
      "Relaxation of atoms obtained in 19.254s.\n",
      "XFEM solution obtained in 9.8435s.\n",
      "Relaxation of atoms obtained in 18.676s.\n",
      "Potential energy of atoms after 5 iterations.\n"
     ]
    },
    {
     "data": {
      "application/vnd.jupyter.widget-view+json": {
       "model_id": "5fc02543479d489184b0cff222e0b16d",
       "version_major": 2,
       "version_minor": 0
      },
      "text/plain": [
       "ViewInteractiveWidget(height=768, layout=Layout(height='auto', width='100%'), width=1024)"
      ]
     },
     "metadata": {},
     "output_type": "display_data"
    },
    {
     "name": "stdout",
     "output_type": "stream",
     "text": [
      "XFEM solution obtained in 9.5456s.\n",
      "Relaxation of atoms obtained in  20.68s.\n",
      "XFEM solution obtained in 9.9984s.\n",
      "Relaxation of atoms obtained in 33.765s.\n",
      "XFEM solution obtained in 9.6299s.\n",
      "Relaxation of atoms obtained in 34.382s.\n",
      "XFEM solution obtained in 9.9793s.\n",
      "Relaxation of atoms obtained in 35.245s.\n",
      "XFEM solution obtained in 9.3917s.\n",
      "Relaxation of atoms obtained in 15.682s.\n",
      "Potential energy of atoms after 10 iterations.\n"
     ]
    },
    {
     "data": {
      "application/vnd.jupyter.widget-view+json": {
       "model_id": "c3404713dc9b4869b5834256ec3cac5b",
       "version_major": 2,
       "version_minor": 0
      },
      "text/plain": [
       "ViewInteractiveWidget(height=768, layout=Layout(height='auto', width='100%'), width=1024)"
      ]
     },
     "metadata": {},
     "output_type": "display_data"
    },
    {
     "name": "stdout",
     "output_type": "stream",
     "text": [
      "Stress component yz at applied shear stress 1.65 GPa.\n"
     ]
    },
    {
     "data": {
      "application/vnd.jupyter.widget-view+json": {
       "model_id": "42a88d59145f48a9993e8489a7fa174a",
       "version_major": 2,
       "version_minor": 0
      },
      "text/plain": [
       "ViewInteractiveWidget(height=768, layout=Layout(height='auto', width='100%'), width=1024)"
      ]
     },
     "metadata": {},
     "output_type": "display_data"
    }
   ],
   "source": [
    "# Apply critical shear stress on boundary\n",
    "val = 1.65\n",
    "mod.apply_bc(val, bc_type='stress', comp='yz')\n",
    "# iterate into relaxed configuration\n",
    "for i in range(10):\n",
    "    mod.atom_bc()\n",
    "    mod.solve()\n",
    "    mod.shift_atoms()\n",
    "    mod.relax_atoms(i, name='applied_stress_165')\n",
    "    if i % 5 == 4:\n",
    "        print(f'Potential energy of atoms after {i+1} iterations.')\n",
    "        mod.plot('epot')\n",
    "\n",
    "# plot stresses\n",
    "print(f'Stress component yz at applied shear stress {val} GPa.')\n",
    "mod.plot('sigyz')\n"
   ]
  },
  {
   "cell_type": "markdown",
   "id": "5bb1c9b5-5b2a-4bd6-889e-bb8531d6c4b8",
   "metadata": {},
   "source": [
    "It is seen that the dislocation starts moving at this stress level, which also increases the yz-stress component at the rhs of the inner boundary of the XFEM disproportionately."
   ]
  }
 ],
 "metadata": {
  "kernelspec": {
   "display_name": "Python 3 (ipykernel)",
   "language": "python",
   "name": "python3"
  },
  "language_info": {
   "codemirror_mode": {
    "name": "ipython",
    "version": 3
   },
   "file_extension": ".py",
   "mimetype": "text/x-python",
   "name": "python",
   "nbconvert_exporter": "python",
   "pygments_lexer": "ipython3",
   "version": "3.9.10"
  }
 },
 "nbformat": 4,
 "nbformat_minor": 5
}
