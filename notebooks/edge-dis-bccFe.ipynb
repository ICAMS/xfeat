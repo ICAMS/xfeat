{
 "cells": [
  {
   "cell_type": "code",
   "execution_count": 1,
   "id": "1f6c4853-e006-40b3-ae1e-3a5216748f9c",
   "metadata": {},
   "outputs": [],
   "source": [
    "%matplotlib inline\n",
    "from pyvista import set_plot_theme, set_jupyter_backend\n",
    "set_plot_theme('document')\n",
    "set_jupyter_backend('ipyvtklink')"
   ]
  },
  {
   "cell_type": "markdown",
   "id": "3cf41fda-3960-4d36-9561-1dc717b1a143",
   "metadata": {},
   "source": [
    "# XFEAt Edge dislocation\n",
    "\n",
    "Create an edge dislocation in a bcc Fe crystal and apply a shear stress until the\n",
    "dislocation becomes mobile.\n",
    "\n",
    "Author: Alexander Hartmaier  \n",
    "Institution: ICAMS / Ruhr University Bochum, Germany  \n",
    "Date: March 2022\n",
    "\n",
    "This work is licensed under a\n",
    "Creative Commons Attribution-NonCommercial-ShareAlike 4.0 International License\n",
    "<a rel=\"license\" href=\"http://creativecommons.org/licenses/by-nc-sa/4.0/\">(CC-BY-NC-SA)</a>\n",
    "\n",
    "The XFEAt package comes with ABSOLUTELY NO WARRANTY. This is free\n",
    "software, and you are welcome to redistribute it under the conditions of\n",
    "the GNU General Public License <a href=\"http://www.fsf.org/licensing/licenses/gpl.html\">(GPLv3)</a>\n",
    "\n",
    "<img alt=\"Creative Commons License\" style=\"border-width:0;max-heigt:9px;height:100%;\" src=\"https://i.creativecommons.org/l/by-nc-sa/4.0/88x31.png\"/></a>\n",
    "<img alt=\"GPLv3\" style=\"border-width:0;max-heigt:9px;height:100%;\" src=\"../docs/figures/gplv3-88x31.png\"/></a>"
   ]
  },
  {
   "cell_type": "code",
   "execution_count": 1,
   "id": "d9d8c961-cd0e-4c3c-ac58-0573ab45e480",
   "metadata": {},
   "outputs": [
    {
     "name": "stdout",
     "output_type": "stream",
     "text": [
      "Succesfully created structure with 6120 atoms.\n",
      "Generated mesh with 26790 elements and 36632 nodes around atomistic core.\n",
      "XFEM solution obtained in 35.869s.\n",
      "Relaxation of atoms obtained in 35.896s.\n",
      "\n",
      "Created dislocation with Burgers vector ([1. 0. 0.]) in model.\n",
      "Norm of Burgers vector is 2.472772 A\n"
     ]
    },
    {
     "data": {
      "application/vnd.jupyter.widget-view+json": {
       "model_id": "4cc8406b44c7406bab31f0f76ba80aaf",
       "version_major": 2,
       "version_minor": 0
      },
      "text/plain": [
       "ViewInteractiveWidget(height=768, layout=Layout(height='auto', width='100%'), width=1024)"
      ]
     },
     "metadata": {},
     "output_type": "display_data"
    }
   ],
   "source": [
    "import xfeat\n",
    "\n",
    "# define material of single crystal as dictionary\n",
    "mat = {\n",
    "       'name' : 'iron',\n",
    "       'cs'   : 'bcc',  # crystal structure\n",
    "       'lp'   : 2.8553,  # lattice parameter in Angstrom\n",
    "       'mass' : 55.845,  # atomic mass in u\n",
    "       # define anisotropic elastic constants in GPa\n",
    "       'C11'  : 243.4,\n",
    "       'C12'  : 145.0,\n",
    "       'C44'  : 116.0,\n",
    "       # W-Bop 6\n",
    "       # C11. C12, C44 = 2.837825, 1.5317, 0.6256225\n",
    "       # define crystallograhic orientation of crystal\n",
    "       'ori_x' : [ 1, 1,  1],\n",
    "       'ori_y' : [-1, 0,  1],\n",
    "       'ori_z' : [-1, 2, -1],\n",
    "       }\n",
    "\n",
    "# create XFEM model \n",
    "mod = xfeat.Model(mat, size=300, verbose=False)\n",
    "mod.atoms([15, 17, 2])\n",
    "mod.mesh()\n",
    "mod.init_dislo([1, 0, 0])\n",
    "mod.plot('ubcx')\n"
   ]
  },
  {
   "cell_type": "code",
   "execution_count": null,
   "id": "52d37cb5-d87f-4540-899b-d573db8d245f",
   "metadata": {},
   "outputs": [],
   "source": [
    "# iterate into relaxed configuration\n",
    "for i in range(1):\n",
    "    # relax atomic region under shear strain\n",
    "    mod.atom_bc()  # apply relaxed atom positions as BC to XFEM \n",
    "    mod.solve()  # colculate nodal displacements for mechanical equilibrium\n",
    "    mod.shift_atoms()  # move boundary atoms according to strain field\n",
    "    mod.relax_atoms(i)  # relax atomic structure with fixed boundary atoms\n",
    "    mod.plot('uy')"
   ]
  },
  {
   "cell_type": "code",
   "execution_count": null,
   "id": "527a28ad-86fa-4f38-a553-ac9b4bcdf9bb",
   "metadata": {},
   "outputs": [],
   "source": []
  }
 ],
 "metadata": {
  "kernelspec": {
   "display_name": "Python 3 (ipykernel)",
   "language": "python",
   "name": "python3"
  },
  "language_info": {
   "codemirror_mode": {
    "name": "ipython",
    "version": 3
   },
   "file_extension": ".py",
   "mimetype": "text/x-python",
   "name": "python",
   "nbconvert_exporter": "python",
   "pygments_lexer": "ipython3",
   "version": "3.9.10"
  }
 },
 "nbformat": 4,
 "nbformat_minor": 5
}
