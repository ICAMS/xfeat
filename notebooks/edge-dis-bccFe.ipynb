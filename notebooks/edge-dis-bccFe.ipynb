{
 "cells": [
  {
   "cell_type": "code",
   "execution_count": 1,
   "id": "1f6c4853-e006-40b3-ae1e-3a5216748f9c",
   "metadata": {},
   "outputs": [],
   "source": [
    "%matplotlib inline\n",
    "from pyvista import set_plot_theme, set_jupyter_backend\n",
    "set_plot_theme('document')\n",
    "set_jupyter_backend('pythreejs')"
   ]
  },
  {
   "cell_type": "markdown",
   "id": "3cf41fda-3960-4d36-9561-1dc717b1a143",
   "metadata": {},
   "source": [
    "# XFEAt Screw dislocation\n",
    "\n",
    "Create a screw dislocation in a bcc FE crystal and apply a shear stress until the\n",
    "dislocation becomes mobile.\n",
    "\n",
    "Author: Alexander Hartmaier  \n",
    "Institution: ICAMS / Ruhr University Bochum, Germany  \n",
    "Date: March 2022\n",
    "\n",
    "Published under the \n",
    "Creative Commons Attribution-NonCommercial-ShareAlike 4.0 International License"
   ]
  },
  {
   "cell_type": "code",
   "execution_count": null,
   "id": "d9d8c961-cd0e-4c3c-ac58-0573ab45e480",
   "metadata": {},
   "outputs": [],
   "source": [
    "import xfeat\n",
    "\n",
    "# define material of single crystal as dictionary\n",
    "mat = {\n",
    "       'name' : 'iron',\n",
    "       'cs'   : 'bcc',  # crystal structure\n",
    "       'lp'   : 2.8553,  # lattice parameter in Angstrom\n",
    "       'mass' : 55.845,  # atomic mass in u\n",
    "       # define anisotropic elastic constants in GPa\n",
    "       'C11'  : 243.4,\n",
    "       'C12'  : 145.0,\n",
    "       'C44'  : 116.0,\n",
    "       # W-Bop 6\n",
    "       # C11. C12, C44 = 2.837825, 1.5317, 0.6256225\n",
    "       # define crystallograhic orientation of crystal\n",
    "       'ori_x' : [-1, 2, -1],\n",
    "       'ori_y' : [-1, 0,  1],\n",
    "       'ori_z' : [ 1, 1,  1],\n",
    "       }\n",
    "\n",
    "# create XFEM model \n",
    "mod = xfeat.Model(mat, size=500)\n",
    "# create atomic core\n",
    "mod.atoms([10, 17, 3])\n",
    "# create mesh and set up system stiffness matrix\n",
    "mod.mesh()\n",
    "# create screw dislocation\n",
    "mod.init_dislo([0, 0, 1])\n",
    "# plot nodes with boundary conditions\n",
    "mod.plot('ubcz')"
   ]
  },
  {
   "cell_type": "code",
   "execution_count": null,
   "id": "cab215f0-3c2e-4104-878e-67e5d23044e1",
   "metadata": {},
   "outputs": [],
   "source": [
    "print(xfeat.type_of_script())\n",
    "print(type(get_ipython()))"
   ]
  },
  {
   "cell_type": "code",
   "execution_count": null,
   "id": "52d37cb5-d87f-4540-899b-d573db8d245f",
   "metadata": {},
   "outputs": [],
   "source": [
    "# iterate into relaxed configuration\n",
    "for i in range(1):\n",
    "    # relax atomic region under shear strain\n",
    "    mod.atom_bc()  # apply relaxed atom positions as BC to XFEM \n",
    "    mod.solve()  # colculate nodal displacements for mechanical equilibrium\n",
    "    mod.shift_atoms()  # move boundary atoms according to strain field\n",
    "    mod.relax_atoms(i)  # relax atomic structure with fixed boundary atoms\n",
    "    mod.plot('uy')"
   ]
  },
  {
   "cell_type": "code",
   "execution_count": null,
   "id": "527a28ad-86fa-4f38-a553-ac9b4bcdf9bb",
   "metadata": {},
   "outputs": [],
   "source": []
  }
 ],
 "metadata": {
  "kernelspec": {
   "display_name": "Python 3 (ipykernel)",
   "language": "python",
   "name": "python3"
  },
  "language_info": {
   "codemirror_mode": {
    "name": "ipython",
    "version": 3
   },
   "file_extension": ".py",
   "mimetype": "text/x-python",
   "name": "python",
   "nbconvert_exporter": "python",
   "pygments_lexer": "ipython3",
   "version": "3.9.10"
  }
 },
 "nbformat": 4,
 "nbformat_minor": 5
}
